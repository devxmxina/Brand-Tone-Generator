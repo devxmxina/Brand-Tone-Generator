{
 "cells": [
  {
   "cell_type": "markdown",
   "id": "9fcde10b",
   "metadata": {},
   "source": [
    "<div style=\"background-color:#e6e6fa; padding:20px; border-radius:10px; text-align:center; font-size:24px; font-weight:bold;\">\n",
    "    Project Overview\n",
    "</div>"
   ]
  },
  {
   "cell_type": "markdown",
   "id": "54fe28b7",
   "metadata": {},
   "source": [
    "This project is a **Brand-Tone Content Generator** built with Python and Streamlit, leveraging the power of **LLMs (Large Language Models)** via the Google API.\n",
    "\n",
    "💡 **Goal**: Help users generate high-quality, brand-aligned text content such as landing page headlines, product descriptions, or slogans — all in their unique brand tone.\n",
    "\n",
    "Users can:\n",
    "- Choose between different LLM providers (GPT / Gemini). *(in progress)*\n",
    "- Define their brand style or tone (e.g., friendly, luxury, minimal).\n",
    "- Get tailored content suggestions instantly.\n",
    "\n",
    "It is designed as an interactive and secure web interface, deployable in production environments. The application hides API keys, lets users input their own securely, and offers a modular structure for extending tone templates and generation models.\n",
    "\n",
    "Use it as:\n",
    "- A standalone content generation assistant.\n",
    "- A plug-and-play module for larger AI-based website builders."
   ]
  },
  {
   "cell_type": "markdown",
   "id": "960e6298",
   "metadata": {},
   "source": [
    "<div style=\"border: 2px solid #9370DB; padding:10px; border-radius:10px; font-size:20px;\">\n",
    "    \n",
    "</div>"
   ]
  },
  {
   "cell_type": "markdown",
   "id": "5a780f78",
   "metadata": {},
   "source": [
    "<hr style=\"border: 1px solid #8e44ad;\">"
   ]
  }
 ],
 "metadata": {
  "kernelspec": {
   "display_name": "tone_gen",
   "language": "python",
   "name": "python3"
  },
  "language_info": {
   "codemirror_mode": {
    "name": "ipython",
    "version": 3
   },
   "file_extension": ".py",
   "mimetype": "text/x-python",
   "name": "python",
   "nbconvert_exporter": "python",
   "pygments_lexer": "ipython3",
   "version": "3.13.2"
  }
 },
 "nbformat": 4,
 "nbformat_minor": 5
}
